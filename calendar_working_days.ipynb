{
 "cells": [
  {
   "cell_type": "markdown",
   "id": "c2076224",
   "metadata": {},
   "source": [
    "### To handle calendars , holdays and working day"
   ]
  },
  {
   "cell_type": "code",
   "execution_count": 6,
   "id": "d81d6fcf",
   "metadata": {},
   "outputs": [],
   "source": [
    "from datetime import date\n",
    "from workalendar.usa import UnitedStates\n",
    "from workalendar.asia import Japan"
   ]
  },
  {
   "cell_type": "code",
   "execution_count": 7,
   "id": "e9b076e3",
   "metadata": {},
   "outputs": [],
   "source": [
    "US_cal = UnitedStates()\n",
    "JA_cal = Japan()"
   ]
  },
  {
   "cell_type": "code",
   "execution_count": 8,
   "id": "22410cb8",
   "metadata": {},
   "outputs": [
    {
     "data": {
      "text/plain": [
       "False"
      ]
     },
     "execution_count": 8,
     "metadata": {},
     "output_type": "execute_result"
    }
   ],
   "source": [
    "US_cal.is_working_day(date(2022, 1, 22))"
   ]
  },
  {
   "cell_type": "code",
   "execution_count": 10,
   "id": "e17bc477",
   "metadata": {},
   "outputs": [
    {
     "data": {
      "text/plain": [
       "False"
      ]
     },
     "execution_count": 10,
     "metadata": {},
     "output_type": "execute_result"
    }
   ],
   "source": [
    "US_cal.is_working_day(date(2021, 12, 24))"
   ]
  },
  {
   "cell_type": "code",
   "execution_count": 13,
   "id": "68618514",
   "metadata": {},
   "outputs": [
    {
     "data": {
      "text/plain": [
       "81"
      ]
     },
     "execution_count": 13,
     "metadata": {},
     "output_type": "execute_result"
    }
   ],
   "source": [
    "US_cal.get_working_days_delta(date(2022 , 1, 19), date(2022,5,15))"
   ]
  },
  {
   "cell_type": "raw",
   "id": "025875d1",
   "metadata": {},
   "source": []
  },
  {
   "cell_type": "code",
   "execution_count": null,
   "id": "a8962028",
   "metadata": {},
   "outputs": [],
   "source": []
  }
 ],
 "metadata": {
  "kernelspec": {
   "display_name": "Python 3 (ipykernel)",
   "language": "python",
   "name": "python3"
  },
  "language_info": {
   "codemirror_mode": {
    "name": "ipython",
    "version": 3
   },
   "file_extension": ".py",
   "mimetype": "text/x-python",
   "name": "python",
   "nbconvert_exporter": "python",
   "pygments_lexer": "ipython3",
   "version": "3.9.7"
  }
 },
 "nbformat": 4,
 "nbformat_minor": 5
}
